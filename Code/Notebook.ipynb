{
 "cells": [
  {
   "cell_type": "markdown",
   "metadata": {},
   "source": [
    "<p style='text-align: justify;'> \n",
    "    \n",
    "# LABORATRIO 1\n",
    "## INVERSIÓN DE CAPITAL \n",
    "https://github.com/andres1999iteso/Lab-1-MYST.git\n",
    "### EQUIPO: \n",
    "#### Carolina Barba Anaya \n",
    "Expediente: if720071 \n",
    "\n",
    "Usuario git: Carolina1002\n",
    "#### Andrés Ramírez Villanueva \n",
    "Expediente: if726061 \n",
    "\n",
    "Usuario git: andres1999iteso\n",
    "    \n",
    "</p>"
   ]
  },
  {
   "cell_type": "markdown",
   "metadata": {},
   "source": [
    "## LIBRERÍAS UTILIZADAS"
   ]
  },
  {
   "cell_type": "markdown",
   "metadata": {},
   "source": [
    "<p style='text-align: justify;'> \n",
    "    \n",
    "- **Pandas:**\n",
    "    \n",
    "    Es una librería de Python especializada en el manejo y análisis de estructuras de datos\n",
    "   \n",
    "   https://aprendeconalf.es/docencia/python/manual/pandas/\n",
    "    \n",
    "\n",
    "- **Numpy:** \n",
    "    \n",
    "    Es una librería de Python especializada en el cálculo numérico y el análisis de datos, especialmente para un gran volumen de datos\n",
    "    \n",
    "    https://aprendeconalf.es/docencia/python/manual/numpy/\n",
    "    \n",
    "\n",
    "- **Yfinance:**\n",
    "    \n",
    "    Ayuda a descargar datos del mercado desde la API de Yahoo Finance\n",
    "    \n",
    "    https://pypi.org/project/yfinance/\n",
    "\n",
    "\n",
    "- **Matplotlib:**\n",
    "    \n",
    "    Es una librería de Python especializada en la creación de gráficos en dos dimensiones \n",
    "    \n",
    "    https://aprendeconalf.es/docencia/python/manual/matplotlib/\n",
    "    \n",
    "\n",
    "- **Scipy:** \n",
    "    \n",
    "    Es una librería que contiene módulos para optimización, álgebra lineal, integración, interpolación, funciones especiales, procesamiento de señales e imagen, y otras tareas relacionadas con la ciencia e ingeniería\n",
    "    \n",
    "    https://unipython.com/scipy-funciones-principales/\n",
    "    \n",
    "    \n",
    "- **Datetime:**\n",
    "    \n",
    "    Para manejar fechas en Python se suele utilizar la librería datetime que incorpora los tipos de datos date, time y datetime para representar fechas y funciones para manejarlas\n",
    "    \n",
    "    https://aprendeconalf.es/docencia/python/manual/datetime/\n",
    "    \n",
    "</p>"
   ]
  },
  {
   "cell_type": "code",
   "execution_count": 2,
   "metadata": {},
   "outputs": [],
   "source": [
    "import warnings\n",
    "import main\n",
    "import data\n",
    "import pandas as pd\n",
    "import visualizations\n",
    "warnings.filterwarnings(\"ignore\")"
   ]
  },
  {
   "cell_type": "markdown",
   "metadata": {},
   "source": [
    "## INTRODUCCION"
   ]
  },
  {
   "cell_type": "markdown",
   "metadata": {},
   "source": [
    "<p style='text-align: justify;'> Al hacer un portafolio de inversión, lo que siempre se busca es tener el mayor rendimiento posible y un buen manejo del riesgo, existen varias estrategias de inversión y siempre es importante conocer los riesgos y los beneficios que cada uno de estos métodos nos aportan, la inversión activa y la inversión pasiva son dos métodos muy debatidos desde hace varias décadas.</p>\n",
    "\n",
    "<p style='text-align: justify;'> Este debate se da por los objetivos que cada inversor esta buscando, los inversores activos intentan superar la rentabilidad de un índice de referencia específico, mientras que los inversores pasivos aceptan la rentabilidad del mercado siguiendo un índice específico.</p>\n",
    "\n",
    "<p style='text-align: justify;'> Ambas estrategias tienen ventajas y desventajas, que dependiendo el perfil del inversionista, ayudarán a tomar la estrategia que más se adapte a sus necesidades.</p>\n",
    "\n",
    "    \n",
    "**Inversión activa:** \n",
    "\n",
    "Ventajas\n",
    "    \n",
    "- La oportunidad de superar al mercado \n",
    "- La flexibilidad que se tiene, ya que se puede invertir con mayor libertad ya que no están vinculados a un índice, y se puede adaptar a las necesidades de cualquier cliente\n",
    "- Gestión del riesgo: se pueden minimizar las pérdidas potenciales evitando determinados sectores, regiones, etc.\n",
    "\n",
    "\n",
    "Desventajas\n",
    "  \n",
    "- La rentabilidad depende de la habilidad del inversionista, ya que existe el riesgo de invertir en un fondo que obtenga resultados desfavorables\n",
    "- Costes más elevados, el manejo y las comisiones de la gestión de las inversiones son más elevadas \n",
    "- Riesgo del hombre clave: si la persona que maneja el fondo tiene algún accidente y se tiene que cambiar de gestor, existe algún riesgo de que esta persona no sea igual de eficiente al manejar el portafolio\n",
    "    \n",
    "\n",
    "**Inversión pasiva:**\n",
    "\n",
    "Ventajas \n",
    "    \n",
    "- Se sabe lo que obtiene: ya que es poco probable que un fondo pasivo obtenga un rendimiento inferior al índice de mercado por un margen significativo.\n",
    "- Bajo coste: las comisiones de manejo de está estrategia son menores que la activa\n",
    "- Estos fondos pasivos también pueden ofrecer una forma rápida y sencilla de acceder a un mercado\n",
    "- Sin riesgo de hombre clave\n",
    "    \n",
    "Desventajas\n",
    "    \n",
    "- Costes ocultos:se subestiman los costes para manejar esta estrategia, ya que a veces el coste para rebalancear es elevado \n",
    "- Las decisiones de asignación de activos no pueden ser pasivas: ya que al manejar esto es fundamental que se aprovechen las oportunidades de mercado a corto plazo, lo que  implica decisiones activas\n",
    "- No hay posibilidad de superar la rentabilidad\n",
    "- Falta de elección, ya que el inversor está obligado a aceptar un índice, independientemente de cómo esté construido y de la calidad de las participaciones subyacentes de ese índice\n",
    "\n",
    "<p style='text-align: justify;'> Decidir que estrategía es mejor no es sencillo, y teniendo en cuenta las ventajas y desventajas de ambas, se debe establecer que es lo más apropiado para el inversionista, en base a sus criterios y objetivos. </p>\n"
   ]
  },
  {
   "cell_type": "markdown",
   "metadata": {},
   "source": [
    "## OBJETIVOS "
   ]
  },
  {
   "cell_type": "markdown",
   "metadata": {},
   "source": [
    "<p style='text-align: justify;'>\n",
    "    \n",
    "- Simular una inversión de un millón de pesos \n",
    "\n",
    "- Utilizar ambas estrategías de inversión: activa y pasiva \n",
    "\n",
    "- Comparar la evolución del capital de ambas estratégias \n",
    "\n",
    "- Y comparar sus medidas de desempeño para elegir el método que nos de mejores rendimientos \n",
    "\n",
    "- Con base a la práctica, definir que estrategía de inversíon es más eficiente \n",
    "    \n",
    "</p>"
   ]
  },
  {
   "cell_type": "markdown",
   "metadata": {},
   "source": [
    "## DATOS"
   ]
  },
  {
   "cell_type": "markdown",
   "metadata": {},
   "source": [
    "Para el desarrollo del proyecto en cuestión fue necesario el manipular información proveniente de dos fuentes, la primera es la estructura del ETF iShares NAFTRAC de Blackrock, esto para analizar la tendencia que había en la presencia de diversas empresas presentes en dicho instrumento y a su vez extraerlas para más adelante estructurar nuestros portafolios. En dicho archivo no sólo podíamos observar las acciones que lo conformaban sino también otros datos relacionados al instrumento."
   ]
  },
  {
   "cell_type": "markdown",
   "metadata": {},
   "source": [
    "A continuación se muestra un breve extracto de como son estos formatos."
   ]
  },
  {
   "cell_type": "code",
   "execution_count": 3,
   "metadata": {},
   "outputs": [
    {
     "data": {
      "text/html": [
       "<div>\n",
       "<style scoped>\n",
       "    .dataframe tbody tr th:only-of-type {\n",
       "        vertical-align: middle;\n",
       "    }\n",
       "\n",
       "    .dataframe tbody tr th {\n",
       "        vertical-align: top;\n",
       "    }\n",
       "\n",
       "    .dataframe thead th {\n",
       "        text-align: right;\n",
       "    }\n",
       "</style>\n",
       "<table border=\"1\" class=\"dataframe\">\n",
       "  <thead>\n",
       "    <tr style=\"text-align: right;\">\n",
       "      <th></th>\n",
       "      <th>Ticker</th>\n",
       "      <th>Nombre</th>\n",
       "      <th>Clase de activo</th>\n",
       "      <th>Peso (%)</th>\n",
       "      <th>Precio</th>\n",
       "      <th>Acciones</th>\n",
       "      <th>Valor de mercado</th>\n",
       "      <th>Valor nominal</th>\n",
       "      <th>Sector</th>\n",
       "      <th>Unnamed: 9</th>\n",
       "      <th>ISIN</th>\n",
       "      <th>Bolsa de valores</th>\n",
       "      <th>Ubicación</th>\n",
       "      <th>Moneda</th>\n",
       "      <th>Mercado de divisas</th>\n",
       "      <th>Tipo de Cambio</th>\n",
       "    </tr>\n",
       "  </thead>\n",
       "  <tbody>\n",
       "    <tr>\n",
       "      <th>0</th>\n",
       "      <td>AMXL</td>\n",
       "      <td>AMERICA MOVIL L</td>\n",
       "      <td>Equity</td>\n",
       "      <td>12.29</td>\n",
       "      <td>13.67</td>\n",
       "      <td>471,480,741.00</td>\n",
       "      <td>6,445,141,729.47</td>\n",
       "      <td>6,445,141,729.47</td>\n",
       "      <td>Comunicación</td>\n",
       "      <td>2667470</td>\n",
       "      <td>MXP001691213</td>\n",
       "      <td>Bolsa Mexicana De Valores</td>\n",
       "      <td>México</td>\n",
       "      <td>MXN</td>\n",
       "      <td>MXN</td>\n",
       "      <td>1.0</td>\n",
       "    </tr>\n",
       "    <tr>\n",
       "      <th>1</th>\n",
       "      <td>WALMEX*</td>\n",
       "      <td>WALMART DE MEXICO V</td>\n",
       "      <td>Equity</td>\n",
       "      <td>11.14</td>\n",
       "      <td>58.35</td>\n",
       "      <td>100,125,728.00</td>\n",
       "      <td>5,842,336,228.80</td>\n",
       "      <td>5,842,336,228.80</td>\n",
       "      <td>Productos básicos de consumo</td>\n",
       "      <td>BW1YVH8</td>\n",
       "      <td>MX01WA000038</td>\n",
       "      <td>Bolsa Mexicana De Valores</td>\n",
       "      <td>México</td>\n",
       "      <td>MXN</td>\n",
       "      <td>MXN</td>\n",
       "      <td>1.0</td>\n",
       "    </tr>\n",
       "    <tr>\n",
       "      <th>2</th>\n",
       "      <td>GMEXICOB</td>\n",
       "      <td>GRUPO MEXICO B</td>\n",
       "      <td>Equity</td>\n",
       "      <td>10.57</td>\n",
       "      <td>87.84</td>\n",
       "      <td>63,111,774.00</td>\n",
       "      <td>5,543,738,228.16</td>\n",
       "      <td>5,543,738,228.16</td>\n",
       "      <td>Materiales</td>\n",
       "      <td>2643674</td>\n",
       "      <td>MXP370841019</td>\n",
       "      <td>Bolsa Mexicana De Valores</td>\n",
       "      <td>México</td>\n",
       "      <td>MXN</td>\n",
       "      <td>MXN</td>\n",
       "      <td>1.0</td>\n",
       "    </tr>\n",
       "  </tbody>\n",
       "</table>\n",
       "</div>"
      ],
      "text/plain": [
       "     Ticker               Nombre Clase de activo  Peso (%) Precio  \\\n",
       "0      AMXL      AMERICA MOVIL L          Equity     12.29  13.67   \n",
       "1   WALMEX*  WALMART DE MEXICO V          Equity     11.14  58.35   \n",
       "2  GMEXICOB       GRUPO MEXICO B          Equity     10.57  87.84   \n",
       "\n",
       "         Acciones  Valor de mercado     Valor nominal  \\\n",
       "0  471,480,741.00  6,445,141,729.47  6,445,141,729.47   \n",
       "1  100,125,728.00  5,842,336,228.80  5,842,336,228.80   \n",
       "2   63,111,774.00  5,543,738,228.16  5,543,738,228.16   \n",
       "\n",
       "                         Sector Unnamed: 9          ISIN  \\\n",
       "0                  Comunicación    2667470  MXP001691213   \n",
       "1  Productos básicos de consumo    BW1YVH8  MX01WA000038   \n",
       "2                    Materiales    2643674  MXP370841019   \n",
       "\n",
       "            Bolsa de valores Ubicación Moneda Mercado de divisas  \\\n",
       "0  Bolsa Mexicana De Valores    México    MXN                MXN   \n",
       "1  Bolsa Mexicana De Valores    México    MXN                MXN   \n",
       "2  Bolsa Mexicana De Valores    México    MXN                MXN   \n",
       "\n",
       "   Tipo de Cambio  \n",
       "0             1.0  \n",
       "1             1.0  \n",
       "2             1.0  "
      ]
     },
     "execution_count": 3,
     "metadata": {},
     "output_type": "execute_result"
    }
   ],
   "source": [
    "data.NAFTRAC_20210129.head(3)"
   ]
  },
  {
   "cell_type": "markdown",
   "metadata": {},
   "source": [
    "Como podemos observar, estos datos no sólo contienen la información de nuestro interés, por lo tanto fue necesario el extraerla y manipularla en otras variables. "
   ]
  },
  {
   "cell_type": "markdown",
   "metadata": {},
   "source": [
    "Una vez cargada los archivos necesarios y posterior a su manipulación, nos percatamos de que había 32 nombres de empresas que se repetían en todos los periodos, sin embargo en estas estaba presente una etiqueta que representaba el \"cash\" que se tenía dentro del ETF, por lo tanto optamos por retirarlo, quedando así sólo 31 empresas."
   ]
  },
  {
   "cell_type": "markdown",
   "metadata": {},
   "source": [
    "Este es un extracto de las etiquetas que se repetían en todos los periodos."
   ]
  },
  {
   "cell_type": "code",
   "execution_count": 4,
   "metadata": {},
   "outputs": [
    {
     "data": {
      "text/html": [
       "<div>\n",
       "<style scoped>\n",
       "    .dataframe tbody tr th:only-of-type {\n",
       "        vertical-align: middle;\n",
       "    }\n",
       "\n",
       "    .dataframe tbody tr th {\n",
       "        vertical-align: top;\n",
       "    }\n",
       "\n",
       "    .dataframe thead th {\n",
       "        text-align: right;\n",
       "    }\n",
       "</style>\n",
       "<table border=\"1\" class=\"dataframe\">\n",
       "  <thead>\n",
       "    <tr style=\"text-align: right;\">\n",
       "      <th></th>\n",
       "      <th>Ticker</th>\n",
       "    </tr>\n",
       "  </thead>\n",
       "  <tbody>\n",
       "    <tr>\n",
       "      <th>0</th>\n",
       "      <td>AMXL</td>\n",
       "    </tr>\n",
       "    <tr>\n",
       "      <th>1</th>\n",
       "      <td>GFINBURO</td>\n",
       "    </tr>\n",
       "    <tr>\n",
       "      <th>2</th>\n",
       "      <td>MXN</td>\n",
       "    </tr>\n",
       "    <tr>\n",
       "      <th>3</th>\n",
       "      <td>ALSEA*</td>\n",
       "    </tr>\n",
       "    <tr>\n",
       "      <th>4</th>\n",
       "      <td>LIVEPOLC.1</td>\n",
       "    </tr>\n",
       "  </tbody>\n",
       "</table>\n",
       "</div>"
      ],
      "text/plain": [
       "       Ticker\n",
       "0        AMXL\n",
       "1    GFINBURO\n",
       "2         MXN\n",
       "3      ALSEA*\n",
       "4  LIVEPOLC.1"
      ]
     },
     "execution_count": 4,
     "metadata": {},
     "output_type": "execute_result"
    }
   ],
   "source": [
    "main.final.head(5)"
   ]
  },
  {
   "cell_type": "markdown",
   "metadata": {},
   "source": [
    "En lo posterior nos encontramos con un inconveniente más, el cual tiene que ver con la segunda fuente de información que utilizamos, esta es yahoo finance, por medio de una librería de python logramos obtener absolutamente toda la información relacionada a los precios de las acciones y más. El problema al usar dicha librería fue que en la base de datos de yahoo muchas etiquetas de las empresas son diferentes a como se ve en la tabla anterior, como ejemplo podríamos mencionar el caso de America móvil, en dicha tabla aparece como \"AMXL\" cuando para poder usar la librería debe ser \"AMXL.MX\", esto se solucionó modificando etiqueta por etiqueta directamente en nuestro csv. Dando como resultado algo como lo siguente:"
   ]
  },
  {
   "cell_type": "code",
   "execution_count": 5,
   "metadata": {},
   "outputs": [
    {
     "data": {
      "text/html": [
       "<div>\n",
       "<style scoped>\n",
       "    .dataframe tbody tr th:only-of-type {\n",
       "        vertical-align: middle;\n",
       "    }\n",
       "\n",
       "    .dataframe tbody tr th {\n",
       "        vertical-align: top;\n",
       "    }\n",
       "\n",
       "    .dataframe thead th {\n",
       "        text-align: right;\n",
       "    }\n",
       "</style>\n",
       "<table border=\"1\" class=\"dataframe\">\n",
       "  <thead>\n",
       "    <tr style=\"text-align: right;\">\n",
       "      <th></th>\n",
       "      <th>Ticker</th>\n",
       "    </tr>\n",
       "  </thead>\n",
       "  <tbody>\n",
       "    <tr>\n",
       "      <th>16</th>\n",
       "      <td>AC*</td>\n",
       "    </tr>\n",
       "    <tr>\n",
       "      <th>19</th>\n",
       "      <td>ALFAA</td>\n",
       "    </tr>\n",
       "    <tr>\n",
       "      <th>30</th>\n",
       "      <td>ALSEA*</td>\n",
       "    </tr>\n",
       "    <tr>\n",
       "      <th>0</th>\n",
       "      <td>AMXL</td>\n",
       "    </tr>\n",
       "    <tr>\n",
       "      <th>9</th>\n",
       "      <td>ASURB</td>\n",
       "    </tr>\n",
       "  </tbody>\n",
       "</table>\n",
       "</div>"
      ],
      "text/plain": [
       "    Ticker\n",
       "16     AC*\n",
       "19   ALFAA\n",
       "30  ALSEA*\n",
       "0     AMXL\n",
       "9    ASURB"
      ]
     },
     "execution_count": 5,
     "metadata": {},
     "output_type": "execute_result"
    }
   ],
   "source": [
    "pd.DataFrame(main.nuevo[\"Ticker\"].head(5))"
   ]
  },
  {
   "cell_type": "markdown",
   "metadata": {},
   "source": [
    "De igual forma y para mantener cierta estructura dentro de nuestro proyecto, optamos por acomodar las acciones alfabéticamente. Por otro lado, es importante mencionar que dichos reportes de blackrock fueron de suma importancia no sólo por lo mencionado anteriormente sino que también porque el primer reporte sirvión para extraer las ponderaciones iniciales de lo que es el portafolio de inversión pasiva. Aquí podemos ver algunos pesos de los activos."
   ]
  },
  {
   "cell_type": "code",
   "execution_count": 6,
   "metadata": {},
   "outputs": [
    {
     "data": {
      "text/html": [
       "<div>\n",
       "<style scoped>\n",
       "    .dataframe tbody tr th:only-of-type {\n",
       "        vertical-align: middle;\n",
       "    }\n",
       "\n",
       "    .dataframe tbody tr th {\n",
       "        vertical-align: top;\n",
       "    }\n",
       "\n",
       "    .dataframe thead th {\n",
       "        text-align: right;\n",
       "    }\n",
       "</style>\n",
       "<table border=\"1\" class=\"dataframe\">\n",
       "  <thead>\n",
       "    <tr style=\"text-align: right;\">\n",
       "      <th></th>\n",
       "      <th>Ticker</th>\n",
       "      <th>Pesos</th>\n",
       "    </tr>\n",
       "  </thead>\n",
       "  <tbody>\n",
       "    <tr>\n",
       "      <th>16</th>\n",
       "      <td>AC.MX</td>\n",
       "      <td>0.0155</td>\n",
       "    </tr>\n",
       "    <tr>\n",
       "      <th>13</th>\n",
       "      <td>ALFAA.MX</td>\n",
       "      <td>0.0136</td>\n",
       "    </tr>\n",
       "    <tr>\n",
       "      <th>2</th>\n",
       "      <td>ALSEA.MX</td>\n",
       "      <td>0.0044</td>\n",
       "    </tr>\n",
       "    <tr>\n",
       "      <th>0</th>\n",
       "      <td>AMXL.MX</td>\n",
       "      <td>0.1229</td>\n",
       "    </tr>\n",
       "    <tr>\n",
       "      <th>25</th>\n",
       "      <td>ASURB.MX</td>\n",
       "      <td>0.0243</td>\n",
       "    </tr>\n",
       "  </tbody>\n",
       "</table>\n",
       "</div>"
      ],
      "text/plain": [
       "      Ticker   Pesos\n",
       "16     AC.MX  0.0155\n",
       "13  ALFAA.MX  0.0136\n",
       "2   ALSEA.MX  0.0044\n",
       "0    AMXL.MX  0.1229\n",
       "25  ASURB.MX  0.0243"
      ]
     },
     "execution_count": 6,
     "metadata": {},
     "output_type": "execute_result"
    }
   ],
   "source": [
    "main.tabla_temporal.iloc[:,0:2].head(5)"
   ]
  },
  {
   "cell_type": "markdown",
   "metadata": {},
   "source": [
    "## PROCESOS "
   ]
  },
  {
   "cell_type": "markdown",
   "metadata": {},
   "source": [
    "### Creación y simulación portafolio pasivo"
   ]
  },
  {
   "cell_type": "markdown",
   "metadata": {},
   "source": [
    "En esta parte del proyecto simplemente tomamos las ponderaciones del primer periodo del ETF con sus respectivas acciones y simulamos una inversión de capital sin hacer rebalanceos durante todo el periodo evaluado, sólo tuvimos que pagar comisiones al inicio, en lo posterior dejamos \"madurar\" el portafolio para su posterior comparación, aquí una muestra gráfica de como fue cambiando en el tiempo en sus rendimientos."
   ]
  },
  {
   "cell_type": "code",
   "execution_count": 7,
   "metadata": {},
   "outputs": [
    {
     "data": {
      "image/png": "[encoded data removed]",
      "text/plain": [
       "<Figure size 640x480 with 1 Axes>"
      ]
     },
     "execution_count": 7,
     "metadata": {},
     "output_type": "execute_result"
    }
   ],
   "source": [
    "visualizations.fig0"
   ]
  },
  {
   "cell_type": "markdown",
   "metadata": {},
   "source": [
    "Por otro lado, aquí tenemos en valor del portafolio."
   ]
  },
  {
   "cell_type": "code",
   "execution_count": 8,
   "metadata": {},
   "outputs": [
    {
     "data": {
      "image/png": "[encoded data removed]",
      "text/plain": [
       "<Figure size 640x480 with 1 Axes>"
      ]
     },
     "execution_count": 8,
     "metadata": {},
     "output_type": "execute_result"
    }
   ],
   "source": [
    "visualizations.fig1"
   ]
  },
  {
   "cell_type": "markdown",
   "metadata": {},
   "source": [
    "A su vez, aquí tenemos un dataframe con la evolución del mismo de forma más detallada."
   ]
  },
  {
   "cell_type": "code",
   "execution_count": 15,
   "metadata": {},
   "outputs": [
    {
     "data": {
      "text/html": [
       "<div>\n",
       "<style scoped>\n",
       "    .dataframe tbody tr th:only-of-type {\n",
       "        vertical-align: middle;\n",
       "    }\n",
       "\n",
       "    .dataframe tbody tr th {\n",
       "        vertical-align: top;\n",
       "    }\n",
       "\n",
       "    .dataframe thead th {\n",
       "        text-align: right;\n",
       "    }\n",
       "</style>\n",
       "<table border=\"1\" class=\"dataframe\">\n",
       "  <thead>\n",
       "    <tr style=\"text-align: right;\">\n",
       "      <th></th>\n",
       "      <th>Date</th>\n",
       "      <th>Valor portafolio</th>\n",
       "      <th>Rendimiento</th>\n",
       "      <th>Rendimiento acumulado</th>\n",
       "    </tr>\n",
       "  </thead>\n",
       "  <tbody>\n",
       "    <tr>\n",
       "      <th>0</th>\n",
       "      <td>2021-01-29</td>\n",
       "      <td>998834.796807</td>\n",
       "      <td>0</td>\n",
       "      <td>0</td>\n",
       "    </tr>\n",
       "    <tr>\n",
       "      <th>1</th>\n",
       "      <td>2021-02-26</td>\n",
       "      <td>1034613.562956</td>\n",
       "      <td>0.035821</td>\n",
       "      <td>0.035821</td>\n",
       "    </tr>\n",
       "  </tbody>\n",
       "</table>\n",
       "</div>"
      ],
      "text/plain": [
       "         Date Valor portafolio Rendimiento Rendimiento acumulado\n",
       "0  2021-01-29    998834.796807           0                     0\n",
       "1  2021-02-26   1034613.562956    0.035821              0.035821"
      ]
     },
     "execution_count": 15,
     "metadata": {},
     "output_type": "execute_result"
    }
   ],
   "source": [
    "main.df_pasiva.head(2)"
   ]
  },
  {
   "cell_type": "code",
   "execution_count": 16,
   "metadata": {},
   "outputs": [
    {
     "data": {
      "text/html": [
       "<div>\n",
       "<style scoped>\n",
       "    .dataframe tbody tr th:only-of-type {\n",
       "        vertical-align: middle;\n",
       "    }\n",
       "\n",
       "    .dataframe tbody tr th {\n",
       "        vertical-align: top;\n",
       "    }\n",
       "\n",
       "    .dataframe thead th {\n",
       "        text-align: right;\n",
       "    }\n",
       "</style>\n",
       "<table border=\"1\" class=\"dataframe\">\n",
       "  <thead>\n",
       "    <tr style=\"text-align: right;\">\n",
       "      <th></th>\n",
       "      <th>Date</th>\n",
       "      <th>Valor portafolio</th>\n",
       "      <th>Rendimiento</th>\n",
       "      <th>Rendimiento acumulado</th>\n",
       "    </tr>\n",
       "  </thead>\n",
       "  <tbody>\n",
       "    <tr>\n",
       "      <th>23</th>\n",
       "      <td>2022-12-30</td>\n",
       "      <td>1121300.598752</td>\n",
       "      <td>-0.059007</td>\n",
       "      <td>0.145131</td>\n",
       "    </tr>\n",
       "    <tr>\n",
       "      <th>24</th>\n",
       "      <td>2023-01-25</td>\n",
       "      <td>1263578.487866</td>\n",
       "      <td>0.126886</td>\n",
       "      <td>0.272018</td>\n",
       "    </tr>\n",
       "  </tbody>\n",
       "</table>\n",
       "</div>"
      ],
      "text/plain": [
       "          Date Valor portafolio Rendimiento Rendimiento acumulado\n",
       "23  2022-12-30   1121300.598752   -0.059007              0.145131\n",
       "24  2023-01-25   1263578.487866    0.126886              0.272018"
      ]
     },
     "execution_count": 16,
     "metadata": {},
     "output_type": "execute_result"
    }
   ],
   "source": [
    "main.df_pasiva.tail(2)"
   ]
  },
  {
   "cell_type": "markdown",
   "metadata": {},
   "source": [
    "### Cálculo poderaciones portafolio EMV"
   ]
  },
  {
   "cell_type": "markdown",
   "metadata": {},
   "source": [
    "EN lo posterior y como se mencionó desde el inicio, se buscaba hacer una comparación con un portafolio activo, para esto ignoramos las ponderaciones iniciales del ETF y optamos por una propuesta de simulación montecarlo, buscamos el portafolio eficiente en media varianza, podemos observarlo en la gráfica siguiente. Como podemos observar, la estrella se encuentra en el punto donde tenemos la menor volatilidad posible pero maximizamos el radio de Sharpe. Dicho proceso se hizo con la simulación de 1000000 portafolios."
   ]
  },
  {
   "attachments": {
    "image.png": {
     "image/png": "[encoded data removed]"
    }
   },
   "cell_type": "markdown",
   "metadata": {},
   "source": [
    "![image.png](attachment:image.png)\n"
   ]
  },
  {
   "cell_type": "markdown",
   "metadata": {},
   "source": [
    "Una vez hecho esto, obtuvimos las ponderaciones para nuestro portafolio activo."
   ]
  },
  {
   "cell_type": "code",
   "execution_count": 17,
   "metadata": {},
   "outputs": [
    {
     "data": {
      "text/html": [
       "<div>\n",
       "<style scoped>\n",
       "    .dataframe tbody tr th:only-of-type {\n",
       "        vertical-align: middle;\n",
       "    }\n",
       "\n",
       "    .dataframe tbody tr th {\n",
       "        vertical-align: top;\n",
       "    }\n",
       "\n",
       "    .dataframe thead th {\n",
       "        text-align: right;\n",
       "    }\n",
       "</style>\n",
       "<table border=\"1\" class=\"dataframe\">\n",
       "  <thead>\n",
       "    <tr style=\"text-align: right;\">\n",
       "      <th></th>\n",
       "      <th>AC.MX</th>\n",
       "      <th>ALFAA.MX</th>\n",
       "      <th>ALSEA.MX</th>\n",
       "      <th>AMXL.MX</th>\n",
       "      <th>ASURB.MX</th>\n",
       "      <th>BBAJIOO.MX</th>\n",
       "      <th>BIMBOA.MX</th>\n",
       "      <th>BOLSAA.MX</th>\n",
       "      <th>CEMEXCPO.MX</th>\n",
       "      <th>CUERVO.MX</th>\n",
       "      <th>...</th>\n",
       "      <th>LIVEPOLC-1.MX</th>\n",
       "      <th>MEGACPO.MX</th>\n",
       "      <th>OMAB.MX</th>\n",
       "      <th>ORBIA.MX</th>\n",
       "      <th>PE&amp;OLES.MX</th>\n",
       "      <th>PINFRA.MX</th>\n",
       "      <th>Q.MX</th>\n",
       "      <th>TLEVISACPO.MX</th>\n",
       "      <th>VESTA.MX</th>\n",
       "      <th>WALMEX.MX</th>\n",
       "    </tr>\n",
       "  </thead>\n",
       "  <tbody>\n",
       "    <tr>\n",
       "      <th>761666</th>\n",
       "      <td>0.025693</td>\n",
       "      <td>0.003322</td>\n",
       "      <td>0.114773</td>\n",
       "      <td>0.184324</td>\n",
       "      <td>0.041551</td>\n",
       "      <td>0.064558</td>\n",
       "      <td>0.06039</td>\n",
       "      <td>0.01019</td>\n",
       "      <td>0.030012</td>\n",
       "      <td>0.034171</td>\n",
       "      <td>...</td>\n",
       "      <td>0.034371</td>\n",
       "      <td>0.003193</td>\n",
       "      <td>0.016562</td>\n",
       "      <td>0.004354</td>\n",
       "      <td>0.008502</td>\n",
       "      <td>0.037787</td>\n",
       "      <td>0.008534</td>\n",
       "      <td>0.008891</td>\n",
       "      <td>0.008126</td>\n",
       "      <td>0.022529</td>\n",
       "    </tr>\n",
       "  </tbody>\n",
       "</table>\n",
       "<p>1 rows × 31 columns</p>\n",
       "</div>"
      ],
      "text/plain": [
       "           AC.MX  ALFAA.MX  ALSEA.MX   AMXL.MX  ASURB.MX  BBAJIOO.MX  \\\n",
       "761666  0.025693  0.003322  0.114773  0.184324  0.041551    0.064558   \n",
       "\n",
       "        BIMBOA.MX  BOLSAA.MX  CEMEXCPO.MX  CUERVO.MX  ...  LIVEPOLC-1.MX  \\\n",
       "761666    0.06039    0.01019     0.030012   0.034171  ...       0.034371   \n",
       "\n",
       "        MEGACPO.MX   OMAB.MX  ORBIA.MX  PE&OLES.MX  PINFRA.MX      Q.MX  \\\n",
       "761666    0.003193  0.016562  0.004354    0.008502   0.037787  0.008534   \n",
       "\n",
       "        TLEVISACPO.MX  VESTA.MX  WALMEX.MX  \n",
       "761666       0.008891  0.008126   0.022529  \n",
       "\n",
       "[1 rows x 31 columns]"
      ]
     },
     "execution_count": 17,
     "metadata": {},
     "output_type": "execute_result"
    }
   ],
   "source": [
    "main.ponderaciones_montecarlo"
   ]
  },
  {
   "cell_type": "markdown",
   "metadata": {},
   "source": [
    "### Cálculo y simulación portafolio activo"
   ]
  },
  {
   "cell_type": "markdown",
   "metadata": {},
   "source": [
    "Para nuestro portafolio activo tuvimos que usar un periodo de analisis de las acciones que fue el primer año, más adelante hicimos rebalanceos cada mes siguiendo las instrucciones de trading descritas en la plataforma. Obtuvimos los siguientes rendimientos. "
   ]
  },
  {
   "cell_type": "code",
   "execution_count": 10,
   "metadata": {},
   "outputs": [
    {
     "data": {
      "image/png": "[encoded data removed]",
      "text/plain": [
       "<Figure size 640x480 with 1 Axes>"
      ]
     },
     "execution_count": 10,
     "metadata": {},
     "output_type": "execute_result"
    }
   ],
   "source": [
    "visualizations.fig2"
   ]
  },
  {
   "cell_type": "markdown",
   "metadata": {},
   "source": [
    "A continuación, una muestra gráfica de la evolución del portafolio en el tiempo."
   ]
  },
  {
   "cell_type": "code",
   "execution_count": 11,
   "metadata": {
    "scrolled": false
   },
   "outputs": [
    {
     "data": {
      "image/png": "[encoded data removed]",
      "text/plain": [
       "<Figure size 640x480 with 1 Axes>"
      ]
     },
     "execution_count": 11,
     "metadata": {},
     "output_type": "execute_result"
    }
   ],
   "source": [
    "visualizations.fig3"
   ]
  },
  {
   "cell_type": "markdown",
   "metadata": {},
   "source": [
    "En este dataframe se observa un resumen numérico de lo descrito en las gráficas anteriores."
   ]
  },
  {
   "cell_type": "code",
   "execution_count": 20,
   "metadata": {},
   "outputs": [
    {
     "data": {
      "text/html": [
       "<div>\n",
       "<style scoped>\n",
       "    .dataframe tbody tr th:only-of-type {\n",
       "        vertical-align: middle;\n",
       "    }\n",
       "\n",
       "    .dataframe tbody tr th {\n",
       "        vertical-align: top;\n",
       "    }\n",
       "\n",
       "    .dataframe thead th {\n",
       "        text-align: right;\n",
       "    }\n",
       "</style>\n",
       "<table border=\"1\" class=\"dataframe\">\n",
       "  <thead>\n",
       "    <tr style=\"text-align: right;\">\n",
       "      <th></th>\n",
       "      <th>Date</th>\n",
       "      <th>Valor portafolio</th>\n",
       "      <th>Rendimiento</th>\n",
       "      <th>Rendimiento acumulado</th>\n",
       "    </tr>\n",
       "  </thead>\n",
       "  <tbody>\n",
       "    <tr>\n",
       "      <th>20</th>\n",
       "      <td>2022-09-30</td>\n",
       "      <td>976433</td>\n",
       "      <td>-0.040247</td>\n",
       "      <td>0.025201</td>\n",
       "    </tr>\n",
       "    <tr>\n",
       "      <th>21</th>\n",
       "      <td>2022-10-31</td>\n",
       "      <td>1116185</td>\n",
       "      <td>0.143125</td>\n",
       "      <td>0.168326</td>\n",
       "    </tr>\n",
       "    <tr>\n",
       "      <th>22</th>\n",
       "      <td>2022-11-30</td>\n",
       "      <td>1145899</td>\n",
       "      <td>0.026621</td>\n",
       "      <td>0.194947</td>\n",
       "    </tr>\n",
       "    <tr>\n",
       "      <th>23</th>\n",
       "      <td>2022-12-30</td>\n",
       "      <td>1070333</td>\n",
       "      <td>-0.065945</td>\n",
       "      <td>0.129002</td>\n",
       "    </tr>\n",
       "    <tr>\n",
       "      <th>24</th>\n",
       "      <td>2023-01-25</td>\n",
       "      <td>1232269</td>\n",
       "      <td>0.151295</td>\n",
       "      <td>0.280297</td>\n",
       "    </tr>\n",
       "  </tbody>\n",
       "</table>\n",
       "</div>"
      ],
      "text/plain": [
       "          Date  Valor portafolio  Rendimiento  Rendimiento acumulado\n",
       "20  2022-09-30            976433    -0.040247               0.025201\n",
       "21  2022-10-31           1116185     0.143125               0.168326\n",
       "22  2022-11-30           1145899     0.026621               0.194947\n",
       "23  2022-12-30           1070333    -0.065945               0.129002\n",
       "24  2023-01-25           1232269     0.151295               0.280297"
      ]
     },
     "execution_count": 20,
     "metadata": {},
     "output_type": "execute_result"
    }
   ],
   "source": [
    "main.df_activa.tail(5)"
   ]
  },
  {
   "cell_type": "markdown",
   "metadata": {},
   "source": [
    "Aunado a lo anterior, aquí se muestra una tabla con la evolcuión de los movimientos en el portafolio activo, es importante mencionar que la parte con 0s es el periodo tomado para análisis y construcción del portafolio EMV."
   ]
  },
  {
   "cell_type": "code",
   "execution_count": 22,
   "metadata": {},
   "outputs": [
    {
     "data": {
      "text/html": [
       "<div>\n",
       "<style scoped>\n",
       "    .dataframe tbody tr th:only-of-type {\n",
       "        vertical-align: middle;\n",
       "    }\n",
       "\n",
       "    .dataframe tbody tr th {\n",
       "        vertical-align: top;\n",
       "    }\n",
       "\n",
       "    .dataframe thead th {\n",
       "        text-align: right;\n",
       "    }\n",
       "</style>\n",
       "<table border=\"1\" class=\"dataframe\">\n",
       "  <thead>\n",
       "    <tr style=\"text-align: right;\">\n",
       "      <th></th>\n",
       "      <th>Date</th>\n",
       "      <th>Titulos totales</th>\n",
       "      <th>Titulos compra</th>\n",
       "      <th>Titulos venta</th>\n",
       "      <th>Comisión</th>\n",
       "      <th>Comisión acum</th>\n",
       "    </tr>\n",
       "  </thead>\n",
       "  <tbody>\n",
       "    <tr>\n",
       "      <th>0</th>\n",
       "      <td>2021-01-29</td>\n",
       "      <td>0</td>\n",
       "      <td>0</td>\n",
       "      <td>0</td>\n",
       "      <td>0.000000</td>\n",
       "      <td>0.000000</td>\n",
       "    </tr>\n",
       "    <tr>\n",
       "      <th>1</th>\n",
       "      <td>2021-02-26</td>\n",
       "      <td>0</td>\n",
       "      <td>0</td>\n",
       "      <td>0</td>\n",
       "      <td>0.000000</td>\n",
       "      <td>0.000000</td>\n",
       "    </tr>\n",
       "    <tr>\n",
       "      <th>2</th>\n",
       "      <td>2021-03-31</td>\n",
       "      <td>0</td>\n",
       "      <td>0</td>\n",
       "      <td>0</td>\n",
       "      <td>0.000000</td>\n",
       "      <td>0.000000</td>\n",
       "    </tr>\n",
       "    <tr>\n",
       "      <th>3</th>\n",
       "      <td>2021-04-30</td>\n",
       "      <td>0</td>\n",
       "      <td>0</td>\n",
       "      <td>0</td>\n",
       "      <td>0.000000</td>\n",
       "      <td>0.000000</td>\n",
       "    </tr>\n",
       "    <tr>\n",
       "      <th>4</th>\n",
       "      <td>2021-05-31</td>\n",
       "      <td>0</td>\n",
       "      <td>0</td>\n",
       "      <td>0</td>\n",
       "      <td>0.000000</td>\n",
       "      <td>0.000000</td>\n",
       "    </tr>\n",
       "    <tr>\n",
       "      <th>5</th>\n",
       "      <td>2021-06-30</td>\n",
       "      <td>0</td>\n",
       "      <td>0</td>\n",
       "      <td>0</td>\n",
       "      <td>0.000000</td>\n",
       "      <td>0.000000</td>\n",
       "    </tr>\n",
       "    <tr>\n",
       "      <th>6</th>\n",
       "      <td>2021-07-30</td>\n",
       "      <td>0</td>\n",
       "      <td>0</td>\n",
       "      <td>0</td>\n",
       "      <td>0.000000</td>\n",
       "      <td>0.000000</td>\n",
       "    </tr>\n",
       "    <tr>\n",
       "      <th>7</th>\n",
       "      <td>2021-08-31</td>\n",
       "      <td>0</td>\n",
       "      <td>0</td>\n",
       "      <td>0</td>\n",
       "      <td>0.000000</td>\n",
       "      <td>0.000000</td>\n",
       "    </tr>\n",
       "    <tr>\n",
       "      <th>8</th>\n",
       "      <td>2021-09-30</td>\n",
       "      <td>0</td>\n",
       "      <td>0</td>\n",
       "      <td>0</td>\n",
       "      <td>0.000000</td>\n",
       "      <td>0.000000</td>\n",
       "    </tr>\n",
       "    <tr>\n",
       "      <th>9</th>\n",
       "      <td>2021-10-26</td>\n",
       "      <td>0</td>\n",
       "      <td>0</td>\n",
       "      <td>0</td>\n",
       "      <td>0.000000</td>\n",
       "      <td>0.000000</td>\n",
       "    </tr>\n",
       "    <tr>\n",
       "      <th>10</th>\n",
       "      <td>2021-11-30</td>\n",
       "      <td>0</td>\n",
       "      <td>0</td>\n",
       "      <td>0</td>\n",
       "      <td>0.000000</td>\n",
       "      <td>0.000000</td>\n",
       "    </tr>\n",
       "    <tr>\n",
       "      <th>11</th>\n",
       "      <td>2021-12-31</td>\n",
       "      <td>0</td>\n",
       "      <td>0</td>\n",
       "      <td>0</td>\n",
       "      <td>0.000000</td>\n",
       "      <td>0.000000</td>\n",
       "    </tr>\n",
       "    <tr>\n",
       "      <th>12</th>\n",
       "      <td>2022-01-26</td>\n",
       "      <td>23639</td>\n",
       "      <td>23639</td>\n",
       "      <td>0</td>\n",
       "      <td>1207.000000</td>\n",
       "      <td>1207.000000</td>\n",
       "    </tr>\n",
       "    <tr>\n",
       "      <th>13</th>\n",
       "      <td>2022-02-28</td>\n",
       "      <td>23553</td>\n",
       "      <td>254</td>\n",
       "      <td>340</td>\n",
       "      <td>76.027504</td>\n",
       "      <td>1283.027466</td>\n",
       "    </tr>\n",
       "    <tr>\n",
       "      <th>14</th>\n",
       "      <td>2022-03-31</td>\n",
       "      <td>23816</td>\n",
       "      <td>425</td>\n",
       "      <td>162</td>\n",
       "      <td>139.186142</td>\n",
       "      <td>1422.213623</td>\n",
       "    </tr>\n",
       "    <tr>\n",
       "      <th>15</th>\n",
       "      <td>2022-04-29</td>\n",
       "      <td>23225</td>\n",
       "      <td>0</td>\n",
       "      <td>591</td>\n",
       "      <td>35.364449</td>\n",
       "      <td>1457.578125</td>\n",
       "    </tr>\n",
       "    <tr>\n",
       "      <th>16</th>\n",
       "      <td>2022-05-31</td>\n",
       "      <td>22823</td>\n",
       "      <td>86</td>\n",
       "      <td>488</td>\n",
       "      <td>39.887806</td>\n",
       "      <td>1497.465942</td>\n",
       "    </tr>\n",
       "    <tr>\n",
       "      <th>17</th>\n",
       "      <td>2022-06-30</td>\n",
       "      <td>22264</td>\n",
       "      <td>6</td>\n",
       "      <td>565</td>\n",
       "      <td>31.264130</td>\n",
       "      <td>1528.730103</td>\n",
       "    </tr>\n",
       "    <tr>\n",
       "      <th>18</th>\n",
       "      <td>2022-07-29</td>\n",
       "      <td>22195</td>\n",
       "      <td>241</td>\n",
       "      <td>310</td>\n",
       "      <td>38.522518</td>\n",
       "      <td>1567.252563</td>\n",
       "    </tr>\n",
       "    <tr>\n",
       "      <th>19</th>\n",
       "      <td>2022-08-31</td>\n",
       "      <td>21648</td>\n",
       "      <td>3</td>\n",
       "      <td>550</td>\n",
       "      <td>28.411135</td>\n",
       "      <td>1595.663696</td>\n",
       "    </tr>\n",
       "    <tr>\n",
       "      <th>20</th>\n",
       "      <td>2022-09-30</td>\n",
       "      <td>21201</td>\n",
       "      <td>15</td>\n",
       "      <td>462</td>\n",
       "      <td>23.542730</td>\n",
       "      <td>1619.206421</td>\n",
       "    </tr>\n",
       "    <tr>\n",
       "      <th>21</th>\n",
       "      <td>2022-10-31</td>\n",
       "      <td>21358</td>\n",
       "      <td>183</td>\n",
       "      <td>26</td>\n",
       "      <td>33.303024</td>\n",
       "      <td>1652.509399</td>\n",
       "    </tr>\n",
       "    <tr>\n",
       "      <th>22</th>\n",
       "      <td>2022-11-30</td>\n",
       "      <td>21031</td>\n",
       "      <td>45</td>\n",
       "      <td>372</td>\n",
       "      <td>35.476524</td>\n",
       "      <td>1687.985962</td>\n",
       "    </tr>\n",
       "    <tr>\n",
       "      <th>23</th>\n",
       "      <td>2022-12-30</td>\n",
       "      <td>20533</td>\n",
       "      <td>14</td>\n",
       "      <td>512</td>\n",
       "      <td>31.307844</td>\n",
       "      <td>1719.293823</td>\n",
       "    </tr>\n",
       "    <tr>\n",
       "      <th>24</th>\n",
       "      <td>2023-01-25</td>\n",
       "      <td>20633</td>\n",
       "      <td>118</td>\n",
       "      <td>18</td>\n",
       "      <td>27.115923</td>\n",
       "      <td>1746.409790</td>\n",
       "    </tr>\n",
       "  </tbody>\n",
       "</table>\n",
       "</div>"
      ],
      "text/plain": [
       "          Date  Titulos totales  Titulos compra  Titulos venta     Comisión  \\\n",
       "0   2021-01-29                0               0              0     0.000000   \n",
       "1   2021-02-26                0               0              0     0.000000   \n",
       "2   2021-03-31                0               0              0     0.000000   \n",
       "3   2021-04-30                0               0              0     0.000000   \n",
       "4   2021-05-31                0               0              0     0.000000   \n",
       "5   2021-06-30                0               0              0     0.000000   \n",
       "6   2021-07-30                0               0              0     0.000000   \n",
       "7   2021-08-31                0               0              0     0.000000   \n",
       "8   2021-09-30                0               0              0     0.000000   \n",
       "9   2021-10-26                0               0              0     0.000000   \n",
       "10  2021-11-30                0               0              0     0.000000   \n",
       "11  2021-12-31                0               0              0     0.000000   \n",
       "12  2022-01-26            23639           23639              0  1207.000000   \n",
       "13  2022-02-28            23553             254            340    76.027504   \n",
       "14  2022-03-31            23816             425            162   139.186142   \n",
       "15  2022-04-29            23225               0            591    35.364449   \n",
       "16  2022-05-31            22823              86            488    39.887806   \n",
       "17  2022-06-30            22264               6            565    31.264130   \n",
       "18  2022-07-29            22195             241            310    38.522518   \n",
       "19  2022-08-31            21648               3            550    28.411135   \n",
       "20  2022-09-30            21201              15            462    23.542730   \n",
       "21  2022-10-31            21358             183             26    33.303024   \n",
       "22  2022-11-30            21031              45            372    35.476524   \n",
       "23  2022-12-30            20533              14            512    31.307844   \n",
       "24  2023-01-25            20633             118             18    27.115923   \n",
       "\n",
       "    Comisión acum  \n",
       "0        0.000000  \n",
       "1        0.000000  \n",
       "2        0.000000  \n",
       "3        0.000000  \n",
       "4        0.000000  \n",
       "5        0.000000  \n",
       "6        0.000000  \n",
       "7        0.000000  \n",
       "8        0.000000  \n",
       "9        0.000000  \n",
       "10       0.000000  \n",
       "11       0.000000  \n",
       "12    1207.000000  \n",
       "13    1283.027466  \n",
       "14    1422.213623  \n",
       "15    1457.578125  \n",
       "16    1497.465942  \n",
       "17    1528.730103  \n",
       "18    1567.252563  \n",
       "19    1595.663696  \n",
       "20    1619.206421  \n",
       "21    1652.509399  \n",
       "22    1687.985962  \n",
       "23    1719.293823  \n",
       "24    1746.409790  "
      ]
     },
     "execution_count": 22,
     "metadata": {},
     "output_type": "execute_result"
    }
   ],
   "source": [
    "main.df_operaciones"
   ]
  },
  {
   "cell_type": "markdown",
   "metadata": {},
   "source": [
    "Por último, en la parte de conclusiones hablaremos un poco más de la comparativa entre portafolios."
   ]
  },
  {
   "cell_type": "markdown",
   "metadata": {},
   "source": [
    "## CONCLUSIÓN "
   ]
  },
  {
   "cell_type": "code",
   "execution_count": 24,
   "metadata": {},
   "outputs": [
    {
     "data": {
      "text/html": [
       "<div>\n",
       "<style scoped>\n",
       "    .dataframe tbody tr th:only-of-type {\n",
       "        vertical-align: middle;\n",
       "    }\n",
       "\n",
       "    .dataframe tbody tr th {\n",
       "        vertical-align: top;\n",
       "    }\n",
       "\n",
       "    .dataframe thead th {\n",
       "        text-align: right;\n",
       "    }\n",
       "</style>\n",
       "<table border=\"1\" class=\"dataframe\">\n",
       "  <thead>\n",
       "    <tr style=\"text-align: right;\">\n",
       "      <th></th>\n",
       "      <th>Medida</th>\n",
       "      <th>Descripción</th>\n",
       "      <th>Inv activa</th>\n",
       "      <th>Inv pasiva</th>\n",
       "    </tr>\n",
       "  </thead>\n",
       "  <tbody>\n",
       "    <tr>\n",
       "      <th>0</th>\n",
       "      <td>rend_m</td>\n",
       "      <td>Rendimiento Promedio Mensual</td>\n",
       "      <td>0.020021</td>\n",
       "      <td>0.010881</td>\n",
       "    </tr>\n",
       "    <tr>\n",
       "      <th>1</th>\n",
       "      <td>rend_c</td>\n",
       "      <td>Rendimiento mensual acumulado</td>\n",
       "      <td>0.280297</td>\n",
       "      <td>0.272018</td>\n",
       "    </tr>\n",
       "    <tr>\n",
       "      <th>2</th>\n",
       "      <td>sharpe</td>\n",
       "      <td>Sharpe Ratio</td>\n",
       "      <td>0.155213</td>\n",
       "      <td>0.132956</td>\n",
       "    </tr>\n",
       "  </tbody>\n",
       "</table>\n",
       "</div>"
      ],
      "text/plain": [
       "   Medida                    Descripción Inv activa Inv pasiva\n",
       "0  rend_m   Rendimiento Promedio Mensual   0.020021   0.010881\n",
       "1  rend_c  Rendimiento mensual acumulado   0.280297   0.272018\n",
       "2  sharpe                   Sharpe Ratio   0.155213   0.132956"
      ]
     },
     "execution_count": 24,
     "metadata": {},
     "output_type": "execute_result"
    }
   ],
   "source": [
    "main.df_medidas"
   ]
  },
  {
   "cell_type": "markdown",
   "metadata": {},
   "source": [
    "#### Andrés"
   ]
  },
  {
   "cell_type": "markdown",
   "metadata": {},
   "source": [
    "Como podemos observar, en el resumen presentado arriba los números son muy similares, se obtuvo un rendimiento bueno en ambas propuestas, aún así, es importante el ver que el portafolio activo estuvo menos tiempo en desarrollo que el pasivo, por lo cual podriamos decir que se generó una mayor cantidad de dinero que en el otro, por lo tanto, lo ideal para este caso sería optar por lacción activa. De igual forma es importante el destacar que la inversión pasiva también puede ser una buena propuesta, depende de las condiciones y el mercado en el que se decida invertir. En cuanto a la parte del desarrollo del proyecto, puedo decir que fue muy interesante el hacer la comparación de estos y comentar que probablemente lo ideal sería comparar los portafolios en el mismo horizonte de tiempo y no dejar uno sólo la mitad, como fue el caso de este."
   ]
  },
  {
   "cell_type": "markdown",
   "metadata": {},
   "source": [
    "#### Carolina"
   ]
  },
  {
   "cell_type": "markdown",
   "metadata": {},
   "source": [
    "Después de hacer la simulación con ambas estrategias, me pude dar cuenta que los rendimientos fueron muy similares, esto es debido a que en ambos se utilizan prácticamente las mismas acciones, sin embargo, para decidir la mejor opción de inversión debemos tomar en cuenta los objetivos del cliente, al tomar una inversión pasiva existe menor riesgo pero el rendimiento nunca podrá superar el índice que estamos tomando de referencia, por otro lado si elegimos la inversión activa existe un riesgo mayor, ya que o podemos tener mayores rendimientos o podemos perder más que en la pasiva, esto tiene que ver con nuestra habilidad de análisis para la compra y venta de las acciones. \n",
    "En este ejemplo, la inversión activa tuvo un mejor rendimiento acumulado que la pasiva, en mi caso mi perfil como inversionista es averso al riesgo, y al ver que los rendimientos son similares, me decidiría por la inversión pasiva."
   ]
  }
 ],
 "metadata": {
  "kernelspec": {
   "display_name": "Python 3",
   "language": "python",
   "name": "python3"
  },
  "language_info": {
   "codemirror_mode": {
    "name": "ipython",
    "version": 3
   },
   "file_extension": ".py",
   "mimetype": "text/x-python",
   "name": "python",
   "nbconvert_exporter": "python",
   "pygments_lexer": "ipython3",
   "version": "3.7.4"
  }
 },
 "nbformat": 4,
 "nbformat_minor": 5
}
